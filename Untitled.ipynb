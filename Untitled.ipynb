{
 "cells": [
  {
   "cell_type": "code",
   "execution_count": 4,
   "id": "a7cf8215-840e-4fa1-992a-a8e106e1d305",
   "metadata": {},
   "outputs": [],
   "source": [
    "import pandas as pd\n",
    "import numpy as np\n",
    "from scipy import stats\n",
    "import statsmodels.api as sm\n",
    "from statsmodels.stats.weightstats import ztest\n",
    "from statsmodels.stats.proportion import proportions_ztest"
   ]
  },
  {
   "cell_type": "code",
   "execution_count": 23,
   "id": "c3ff1043-9925-4e9f-b105-1f6bbe5f2550",
   "metadata": {},
   "outputs": [
    {
     "data": {
      "text/plain": [
       "564.9000000000001"
      ]
     },
     "execution_count": 24,
     "metadata": {},
     "output_type": "execute_result"
    }
   ],
   "source": [
    "#ex_2\n",
    "u = 0.9\n",
    "n = 10\n",
    "\n",
    "arr = np.array([70,55,110,45,92,35,75,56,75,40])\n",
    "arr_var = np.var(arr,ddof=1)\n",
    "s = np.std(arr,ddof=1)\n",
    "\n",
    "(arr.mean() - u )/(s / np.sqrt(n))\n",
    "\n"
   ]
  },
  {
   "cell_type": "code",
   "execution_count": 25,
   "id": "ac535831-380d-441e-a1fe-923ff8035db7",
   "metadata": {},
   "outputs": [
    {
     "data": {
      "text/plain": [
       "Ttest_indResult(statistic=-0.7416808046007421, pvalue=0.4678484088500957)"
      ]
     },
     "execution_count": 25,
     "metadata": {},
     "output_type": "execute_result"
    }
   ],
   "source": [
    "#ex_3\n",
    "A = np.array([46,52,47,44,49,43,45,55,45,47])\n",
    "B = np.array([45,48,48,47,57,47,46,45,55,48])\n",
    "\n",
    "\n",
    "stats.ttest_ind(a=A,b=B,equal_var = True,alternative = \"two-sided\")\n"
   ]
  },
  {
   "cell_type": "code",
   "execution_count": 31,
   "id": "7ac6d6e2-85d2-4104-8fb9-8e073229460a",
   "metadata": {},
   "outputs": [
    {
     "data": {
      "text/plain": [
       "1.734063606617536"
      ]
     },
     "execution_count": 31,
     "metadata": {},
     "output_type": "execute_result"
    }
   ],
   "source": [
    "stats.t.isf(0.05,df=18)"
   ]
  },
  {
   "cell_type": "code",
   "execution_count": null,
   "id": "95285d4f-d525-47e7-8c18-b50fc9928339",
   "metadata": {},
   "outputs": [],
   "source": [
    "t_cal"
   ]
  }
 ],
 "metadata": {
  "kernelspec": {
   "display_name": "Python 3 (ipykernel)",
   "language": "python",
   "name": "python3"
  },
  "language_info": {
   "codemirror_mode": {
    "name": "ipython",
    "version": 3
   },
   "file_extension": ".py",
   "mimetype": "text/x-python",
   "name": "python",
   "nbconvert_exporter": "python",
   "pygments_lexer": "ipython3",
   "version": "3.9.13"
  }
 },
 "nbformat": 4,
 "nbformat_minor": 5
}
