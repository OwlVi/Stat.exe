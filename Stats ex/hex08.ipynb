{
 "cells": [
  {
   "cell_type": "markdown",
   "metadata": {
    "id": "U3ArbMi8JHGD"
   },
   "source": [
    "# แบบฝึกหัด 8"
   ]
  },
  {
   "cell_type": "markdown",
   "metadata": {
    "id": "t9RQYuu-JUwP"
   },
   "source": [
    "---"
   ]
  },
  {
   "cell_type": "code",
   "execution_count": 56,
   "metadata": {
    "id": "YY-EeJDrQn80"
   },
   "outputs": [],
   "source": [
    "import numpy as np\n",
    "import pandas as pd\n",
    "from scipy import stats\n",
    "from statsmodels.stats.proportion import proportions_ztest"
   ]
  },
  {
   "cell_type": "code",
   "execution_count": 57,
   "metadata": {
    "id": "8JHjvPwPYYru"
   },
   "outputs": [],
   "source": [
    "df = pd.read_csv(\"D:/Programing_year2023/Stats.exe/data/titanic.csv\")"
   ]
  },
  {
   "cell_type": "markdown",
   "metadata": {
    "id": "QHjwP-tnOuU5"
   },
   "source": [
    "8.1 ร้านค้าออนไลน์ขายเมล็ดพืชหายากชนิดหนึ่ง อ้างว่าเมล็ดที่ขายมีเปอร์เซ็นต์การงอกสูงกว่า 90% จากการทดลองของลูกค้ารายหนึ่งได้สั่งซื้อเมล็ดมาทั้งหมด 100 เมล็ดและพบว่ามี 14 เมล็ดที่ไม่งอก จงทดสอบคำกล่าวอ้างของร้านค้าว่าเป็นจริงหรือไม่ที่ระดับนัยสำคัญ 0.05 หากถือว่าอัตราการงอกของเมล็ดพืชดังกล่าวมีการแจกแจงแบบปกติ"
   ]
  },
  {
   "cell_type": "code",
   "execution_count": 58,
   "metadata": {
    "colab": {
     "base_uri": "https://localhost:8080/"
    },
    "executionInfo": {
     "elapsed": 404,
     "status": "ok",
     "timestamp": 1677584347458,
     "user": {
      "displayName": "Piya KONGSRI",
      "userId": "06175388763424787082"
     },
     "user_tz": -420
    },
    "id": "eGMlvK2UXrtE",
    "outputId": "201cf31f-648f-4ff4-ee57-ab7f4524936a"
   },
   "outputs": [
    {
     "name": "stdout",
     "output_type": "stream",
     "text": [
      "ร้านค้ามีเมล็ดที่ขายมีเปอร์เซ็นต์การงอกสูงกว่า 90% ไม่จริง\n",
      "z_cal: -1.3333333333333346,z_crit: 1.6448536269514729,p_val: 0.0912112197258676\n"
     ]
    }
   ],
   "source": [
    "#แสดงสมมติฐาน พร้อมวิธีหาค่าcal ค่าp-value และการสรุปผล \n",
    "n1 = 100\n",
    "p_hat1 = 86/n1\n",
    "po1 = 0.9 \n",
    "qo1 = 1-po1\n",
    "alpha = 0.05\n",
    "\n",
    "# 0.14 > 0.1\n",
    "# H0 p <= po\n",
    "# H1 p > po   \n",
    "\n",
    "z_cal1 = (p_hat1-po1)/np.sqrt( (po1*qo1)/n1)\n",
    "z_cal1\n",
    "\n",
    "z_crit1 = stats.norm.isf(alpha)\n",
    "z_crit1\n",
    "\n",
    "p_val1 = stats.norm.sf(abs(z_cal1))\n",
    "p_val1\n",
    "\n",
    "if (p_val1 > alpha):\n",
    "  print(\"ร้านค้ามีเมล็ดที่ขายมีเปอร์เซ็นต์การงอกสูงกว่า 90% ไม่จริง\") # H0\n",
    "else:\n",
    "  print(\"ร้านค้ามีเมล็ดที่ขายมีเปอร์เซ็นต์การงอกสูงกว่า 90% จริง\") # H1\n",
    "\n",
    "print(f\"z_cal: {z_cal1},z_crit: {z_crit1},p_val: {p_val1}\")\n",
    "\n",
    "#z_cal,p_val = proportions_ztest(count = 14,\n",
    "#                                nobs = 100,\n",
    "#                                value = 0.1,\n",
    "#                                alternative='larger',\n",
    "#                                prop_var= 0.1)\n",
    "#print(f\"zcal {z_cal} pval {p_val}\"\n",
    "\n",
    "\n"
   ]
  },
  {
   "cell_type": "markdown",
   "metadata": {
    "id": "Tl6eIfL9R7Qx"
   },
   "source": [
    "8.2 สืบเนื่องจากข้อ 8.1 พบว่ามีร้านค้าออนไลน์อีกเจ้าซึ่งขายเมล็ดพืชหายากชนิดเดียวกันนี้ อ้างว่าเมล็ดที่ขายมีเปอร์เซนต์การงอกสูงกว่า 95% จึงสั่งซื้อมา 50 เมล็ดพบว่ามี 4 เมล็ดที่ไม่งอก จงทดสอบว่าร้านค้านี้ขายเมล็ดซึ่งมีเปอร์เซ็นต์การงอกสูงกว่าร้านค้าแรกมากกว่าหรือเท่ากับ 5% หรือไม่ ที่ระดับนัยสำคัญ 0.05"
   ]
  },
  {
   "cell_type": "code",
   "execution_count": 59,
   "metadata": {
    "colab": {
     "base_uri": "https://localhost:8080/"
    },
    "executionInfo": {
     "elapsed": 5,
     "status": "ok",
     "timestamp": 1677584349950,
     "user": {
      "displayName": "Piya KONGSRI",
      "userId": "06175388763424787082"
     },
     "user_tz": -420
    },
    "id": "IMLPHscAgi5K",
    "outputId": "437d1a14-9026-486e-f665-b8493eebe82e"
   },
   "outputs": [
    {
     "name": "stdout",
     "output_type": "stream",
     "text": [
      "ร้านค้านี้ขายเมล็ดซึ่งมีเปอร์เซ็นต์การงอกสูงกว่าร้านค้าแรกมากกว่าหรือเท่ากับ 5% จริง\n",
      "z_cal: 0.17766726362967553,z_crit: 1.6448536269514729,p_val: 0.4294921480044798\n"
     ]
    }
   ],
   "source": [
    "#แสดงสมมติฐาน พร้อมวิธีหาค่าcal ค่าp-value และการสรุปผล \n",
    "\n",
    "# phat1 - phat2\n",
    "# 0.14  - 0.8 >= 0.05\n",
    "# H0 p >= p0  ร้านค้านี้ขายเมล็ดซึ่งมีเปอร์เซ็นต์การงอกสูงกว่าร้านค้าแรกมากกว่าหรือเท่ากับ 5% จริง\n",
    "# H1 p < p0    ร้านค้านี้ขายเมล็ดซึ่งมีเปอร์เซ็นต์การงอกสูงกว่าร้านค้าแรกมากกว่าหรือเท่ากับ 5% ไม่จริง\n",
    "\n",
    "x1,x2 = 14,4\n",
    "n1,n2 = 100,50\n",
    "\n",
    "p_hat = (x1+x2)/(n1+n2)\n",
    "\n",
    "z_cal = ( ( (x1/n1) - (x2/n2) ) - 0.05 )/np.sqrt(p_hat*(1-p_hat)*( (1/n1)+ (1/n2) ) )\n",
    "\n",
    "z_crit = stats.norm.isf(0.05)\n",
    "\n",
    "p_val = stats.norm.sf(abs(z_cal))\n",
    "\n",
    "if (p_val > 0.05):\n",
    "  print(\"ร้านค้านี้ขายเมล็ดซึ่งมีเปอร์เซ็นต์การงอกสูงกว่าร้านค้าแรกมากกว่าหรือเท่ากับ 5% จริง\") # H0\n",
    "else:\n",
    "  print(\"ร้านค้านี้ขายเมล็ดซึ่งมีเปอร์เซ็นต์การงอกสูงกว่าร้านค้าแรกมากกว่าหรือเท่ากับ 5% ไม่จริง\") # H1\n",
    "\n",
    "print(f\"z_cal: {z_cal},z_crit: {z_crit},p_val: {p_val}\")\n",
    "\n",
    "#z_cal,p_val = proportions_ztest(count = [14,4],\n",
    "#                                nobs = [100,50],\n",
    "#                                value = 0.05,\n",
    "#                                alternative='larger')\n",
    "#print(f\"zcal {z_cal} pval {p_val}\")\n",
    "\n"
   ]
  },
  {
   "cell_type": "markdown",
   "metadata": {
    "id": "JAxlkGQCXR2L"
   },
   "source": [
    "8.3 จากชุดข้อมูล \"titanic.csv\" จงทดสอบว่าส่วนเบี่ยงเบนมาตราฐานข้อมูลอายุผู้โดยสารมีค่าน้อยกว่า 10 ปีหรือไม่ที่ระดับความเชื่อมั่น 99% หากกำหนดให้ข้อมูลอายุผู้โดยสารมีการแจกแจงแบบปกติ"
   ]
  },
  {
   "cell_type": "code",
   "execution_count": 60,
   "metadata": {
    "id": "eE0UT708g4d_"
   },
   "outputs": [
    {
     "name": "stdout",
     "output_type": "stream",
     "text": [
      "คำกล่าวอ้างเป็นจริง\n",
      "Chi2_cal : 1502.45912364364 Chi2_crit : 803.7781674970724 p_val : 1.791952753667051e-58\n"
     ]
    }
   ],
   "source": [
    "#แสดงสมมติฐาน พร้อมวิธีหาค่าcal ค่าp-value และการสรุปผล \n",
    "n = df.Age.count()\n",
    "v = n-1\n",
    "s = np.std(df.Age)\n",
    "o = 10\n",
    "\n",
    "# std >= std0 H0\n",
    "# std < std0 H1 คำกล่าวอ้างจริง\n",
    "\n",
    "chi2_cal = (v*(s**2))/(o**2)\n",
    "\n",
    "chi2_crit = stats.chi2.isf(0.01, df=v)\n",
    "\n",
    "p_val = stats.chi2.sf(chi2_cal, df=v)\n",
    "\n",
    "if (p_val > 0.01):\n",
    "    print(\"คำกล่าวอ้างไม่เป็นจริง\") #H0\n",
    "else:\n",
    "    print(\"คำกล่าวอ้างเป็นจริง\") #H1\n",
    "    \n",
    "print(f\"Chi2_cal : {chi2_cal} Chi2_crit : {chi2_crit} p_val : {p_val}\")\n",
    "\n",
    "\n",
    "\n",
    "\n",
    "\n"
   ]
  },
  {
   "cell_type": "markdown",
   "metadata": {
    "id": "rZ8GvZovcRmI"
   },
   "source": [
    "8.4 จากข้อ 8.3 จงทดสอบว่ากลุ่มผู้โดยสารชั้น Pclass = 1 มีความแปรปรวนของอายุเท่ากับ กลุ่มผู้โดยสารชั้น Pclass = 2 หรือไม่ที่ระดับนัยสำคัญ 0.05"
   ]
  },
  {
   "cell_type": "code",
   "execution_count": 61,
   "metadata": {
    "id": "ebjm535ag6tE"
   },
   "outputs": [
    {
     "name": "stdout",
     "output_type": "stream",
     "text": [
      " Pclass = 1 มีความแปรปรวนของอายุเท่ากับกลุ่มผู้โดยสารชั้น Pclass = 2\n",
      "F_cal: 1.118264624917844 , fcrit (0.7454732770065574 , 1.343577412539335), pval: 0.4576988105362566\n"
     ]
    }
   ],
   "source": [
    "#แสดงสมมติฐาน พร้อมวิธีหาค่าcal ค่าp-value และการสรุปผล \n",
    "n1 = df.query(\"Pclass == 1\").Age.count() - 1\n",
    "s1 = np.var(df.query(\"Pclass == 1\").Age)\n",
    "\n",
    "n2 = df.query(\"Pclass == 2\").Age.count() - 1\n",
    "s2 = np.var(df.query(\"Pclass == 2\").Age)\n",
    "\n",
    "# o1/o2 = 1\n",
    "# H0 : Pclass = 1 มีความแปรปรวนของอายุเท่ากับกลุ่มผู้โดยสารชั้น Pclass = 2\n",
    "# H1 : Pclass = 1 มีความแปรปรวนของอายุไม่เท่ากับกลุ่มผู้โดยสารชั้น Pclass = 2\n",
    "\n",
    "F_cal = s1/s2\n",
    "f_critLeft  = stats.f.ppf(0.05/2 , dfn=n1,dfd=n2)\n",
    "f_critRight = stats.f.isf(0.05/2 , dfn=n1,dfd=n2)\n",
    "\n",
    "p_val = 2 * min(stats.f.cdf(F_cal,dfn=n1,dfd=n2),stats.f.sf(F_cal,dfn=n1,dfd=n2))\n",
    "\n",
    "\n",
    "if (p_val > 0.05):\n",
    "    print(\" Pclass = 1 มีความแปรปรวนของอายุเท่ากับกลุ่มผู้โดยสารชั้น Pclass = 2\") #H0\n",
    "else:\n",
    "    print(\" Pclass = 1 มีความแปรปรวนของอายุไม่เท่ากับกลุ่มผู้โดยสารชั้น Pclass = 2\") #H1\n",
    "print(f\"F_cal: {F_cal} , fcrit ({f_critLeft} , {f_critRight}), pval: {p_val}\")"
   ]
  }
 ],
 "metadata": {
  "colab": {
   "provenance": [
    {
     "file_id": "1FkfJmDQFgZv6SNSXAt6kXBDpTHCr9w2T",
     "timestamp": 1677580098260
    }
   ]
  },
  "kernelspec": {
   "display_name": "Python 3 (ipykernel)",
   "language": "python",
   "name": "python3"
  },
  "language_info": {
   "codemirror_mode": {
    "name": "ipython",
    "version": 3
   },
   "file_extension": ".py",
   "mimetype": "text/x-python",
   "name": "python",
   "nbconvert_exporter": "python",
   "pygments_lexer": "ipython3",
   "version": "3.9.13"
  }
 },
 "nbformat": 4,
 "nbformat_minor": 4
}
