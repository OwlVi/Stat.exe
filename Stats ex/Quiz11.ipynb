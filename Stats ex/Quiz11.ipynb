{
 "cells": [
  {
   "cell_type": "code",
   "execution_count": 14,
   "id": "a69a4299-ca66-4425-a16d-7d3259f48053",
   "metadata": {},
   "outputs": [],
   "source": [
    "import numpy as np\n",
    "import pandas as pd\n",
    "from scipy import stats\n",
    "import statsmodels.api as sm\n",
    "from statsmodels.stats.proportion import proportions_ztest"
   ]
  },
  {
   "cell_type": "code",
   "execution_count": 29,
   "id": "6b359ee1-02dc-4977-ab03-82b87fa59b34",
   "metadata": {},
   "outputs": [
    {
     "data": {
      "text/html": [
       "<div>\n",
       "<style scoped>\n",
       "    .dataframe tbody tr th:only-of-type {\n",
       "        vertical-align: middle;\n",
       "    }\n",
       "\n",
       "    .dataframe tbody tr th {\n",
       "        vertical-align: top;\n",
       "    }\n",
       "\n",
       "    .dataframe thead th {\n",
       "        text-align: right;\n",
       "    }\n",
       "</style>\n",
       "<table border=\"1\" class=\"dataframe\">\n",
       "  <thead>\n",
       "    <tr style=\"text-align: right;\">\n",
       "      <th></th>\n",
       "      <th>mk_share</th>\n",
       "      <th>payback_customer</th>\n",
       "    </tr>\n",
       "  </thead>\n",
       "  <tbody>\n",
       "    <tr>\n",
       "      <th>0</th>\n",
       "      <td>15</td>\n",
       "      <td>24</td>\n",
       "    </tr>\n",
       "    <tr>\n",
       "      <th>1</th>\n",
       "      <td>14</td>\n",
       "      <td>20</td>\n",
       "    </tr>\n",
       "    <tr>\n",
       "      <th>2</th>\n",
       "      <td>18</td>\n",
       "      <td>25</td>\n",
       "    </tr>\n",
       "    <tr>\n",
       "      <th>3</th>\n",
       "      <td>20</td>\n",
       "      <td>28</td>\n",
       "    </tr>\n",
       "    <tr>\n",
       "      <th>4</th>\n",
       "      <td>10</td>\n",
       "      <td>15</td>\n",
       "    </tr>\n",
       "    <tr>\n",
       "      <th>5</th>\n",
       "      <td>11</td>\n",
       "      <td>15</td>\n",
       "    </tr>\n",
       "    <tr>\n",
       "      <th>6</th>\n",
       "      <td>13</td>\n",
       "      <td>16</td>\n",
       "    </tr>\n",
       "    <tr>\n",
       "      <th>7</th>\n",
       "      <td>16</td>\n",
       "      <td>17</td>\n",
       "    </tr>\n",
       "    <tr>\n",
       "      <th>8</th>\n",
       "      <td>10</td>\n",
       "      <td>12</td>\n",
       "    </tr>\n",
       "    <tr>\n",
       "      <th>9</th>\n",
       "      <td>12</td>\n",
       "      <td>13</td>\n",
       "    </tr>\n",
       "    <tr>\n",
       "      <th>10</th>\n",
       "      <td>15</td>\n",
       "      <td>15</td>\n",
       "    </tr>\n",
       "    <tr>\n",
       "      <th>11</th>\n",
       "      <td>17</td>\n",
       "      <td>16</td>\n",
       "    </tr>\n",
       "    <tr>\n",
       "      <th>12</th>\n",
       "      <td>22</td>\n",
       "      <td>30</td>\n",
       "    </tr>\n",
       "    <tr>\n",
       "      <th>13</th>\n",
       "      <td>19</td>\n",
       "      <td>25</td>\n",
       "    </tr>\n",
       "  </tbody>\n",
       "</table>\n",
       "</div>"
      ],
      "text/plain": [
       "    mk_share  payback_customer\n",
       "0         15                24\n",
       "1         14                20\n",
       "2         18                25\n",
       "3         20                28\n",
       "4         10                15\n",
       "5         11                15\n",
       "6         13                16\n",
       "7         16                17\n",
       "8         10                12\n",
       "9         12                13\n",
       "10        15                15\n",
       "11        17                16\n",
       "12        22                30\n",
       "13        19                25"
      ]
     },
     "execution_count": 29,
     "metadata": {},
     "output_type": "execute_result"
    }
   ],
   "source": [
    "cosmetics = pd.read_csv(\"D:\\Programing_year2023\\Stats.exe\\data\\cosmetic.csv\")\n",
    "cosmetics"
   ]
  },
  {
   "cell_type": "code",
   "execution_count": 41,
   "id": "6468aa40-ba88-4e41-867d-9267feb0b87e",
   "metadata": {},
   "outputs": [
    {
     "name": "stdout",
     "output_type": "stream",
     "text": [
      "r 0.864 F_cal 94.617 F_crit 4.965 P_val 0.000 b0 -1.191 b1 1.357\n"
     ]
    }
   ],
   "source": [
    "x = cosmetics.mk_share\n",
    "y = cosmetics.payback_customer\n",
    "\n",
    "r = (n*(x*y).sum() - x.sum()*y.sum()) /((np.sqrt(n*(x**2).sum()-x.sum()**2)*(np.sqrt(n*(y**2).sum()-y.sum()**2))))\n",
    "t_cal = r / np.sqrt((1-r**2)/(14-2))\n",
    "\n",
    "b1 = sum( (x-x.mean())*(y-y.mean()) ) / sum( (x-x.mean())**2 )\n",
    "b0 = y.mean() - b1*x.mean()\n",
    "\n",
    "SSR = b0*sum(y)+b1*sum(x*y)-12*y.mean()**2\n",
    "MSR = SSR/1\n",
    "\n",
    "SST = sum(y**2)-12*y.mean()**2\n",
    "\n",
    "SSE = SST-SSR\n",
    "\n",
    "MSE = SSE / (12-2)\n",
    "\n",
    "F_cal = MSR/MSE\n",
    "\n",
    "F_crit = stats.f.isf(0.05, dfn=1, dfd=12-2)\n",
    "\n",
    "p_val = stats.f.sf(F_cal, dfn=1, dfd=12-2)\n",
    "\n",
    "print(f\"r {r:.3f} F_cal {F_cal:.3f} F_crit {F_crit:.3f} P_val {p_val:.3f} b0 {b0:.3f} b1 {b1:.3f}\")"
   ]
  },
  {
   "cell_type": "code",
   "execution_count": 42,
   "id": "4fefe4f5-4a69-48f1-a7d4-4a049e624e54",
   "metadata": {},
   "outputs": [
    {
     "name": "stdout",
     "output_type": "stream",
     "text": [
      "                            OLS Regression Results                            \n",
      "==============================================================================\n",
      "Dep. Variable:       payback_customer   R-squared:                       0.746\n",
      "Model:                            OLS   Adj. R-squared:                  0.725\n",
      "Method:                 Least Squares   F-statistic:                     35.31\n",
      "Date:                Thu, 02 Mar 2023   Prob (F-statistic):           6.79e-05\n",
      "Time:                        19:09:39   Log-Likelihood:                -34.603\n",
      "No. Observations:                  14   AIC:                             73.21\n",
      "Df Residuals:                      12   BIC:                             74.48\n",
      "Df Model:                           1                                         \n",
      "Covariance Type:            nonrobust                                         \n",
      "==============================================================================\n",
      "                 coef    std err          t      P>|t|      [0.025      0.975]\n",
      "------------------------------------------------------------------------------\n",
      "const         -1.1905      3.555     -0.335      0.744      -8.937       6.556\n",
      "mk_share       1.3569      0.228      5.942      0.000       0.859       1.854\n",
      "==============================================================================\n",
      "Omnibus:                        0.988   Durbin-Watson:                   0.824\n",
      "Prob(Omnibus):                  0.610   Jarque-Bera (JB):                0.778\n",
      "Skew:                          -0.509   Prob(JB):                        0.678\n",
      "Kurtosis:                       2.455   Cond. No.                         67.2\n",
      "==============================================================================\n",
      "\n",
      "Notes:\n",
      "[1] Standard Errors assume that the covariance matrix of the errors is correctly specified.\n"
     ]
    },
    {
     "name": "stderr",
     "output_type": "stream",
     "text": [
      "C:\\Users\\mrowl\\anaconda3\\lib\\site-packages\\scipy\\stats\\_stats_py.py:1769: UserWarning: kurtosistest only valid for n>=20 ... continuing anyway, n=14\n",
      "  warnings.warn(\"kurtosistest only valid for n>=20 ... continuing \"\n"
     ]
    }
   ],
   "source": [
    "x_wconst = sm.add_constant(x)\n",
    "lr = sm.OLS(y,x_wconst).fit()\n",
    "print(lr.summary())"
   ]
  },
  {
   "cell_type": "code",
   "execution_count": null,
   "id": "b18d67a6-3192-4506-a532-2c8ee8ca3d7a",
   "metadata": {},
   "outputs": [],
   "source": []
  }
 ],
 "metadata": {
  "kernelspec": {
   "display_name": "Python 3 (ipykernel)",
   "language": "python",
   "name": "python3"
  },
  "language_info": {
   "codemirror_mode": {
    "name": "ipython",
    "version": 3
   },
   "file_extension": ".py",
   "mimetype": "text/x-python",
   "name": "python",
   "nbconvert_exporter": "python",
   "pygments_lexer": "ipython3",
   "version": "3.9.13"
  }
 },
 "nbformat": 4,
 "nbformat_minor": 5
}
